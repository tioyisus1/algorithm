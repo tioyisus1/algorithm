{
  "nbformat": 4,
  "nbformat_minor": 0,
  "metadata": {
    "colab": {
      "provenance": [],
      "authorship_tag": "ABX9TyMtcTCor4y26cpmIHcIsz31",
      "include_colab_link": true
    },
    "kernelspec": {
      "name": "python3",
      "display_name": "Python 3"
    },
    "language_info": {
      "name": "python"
    }
  },
  "cells": [
    {
      "cell_type": "markdown",
      "metadata": {
        "id": "view-in-github",
        "colab_type": "text"
      },
      "source": [
        "<a href=\"https://colab.research.google.com/github/tioyisus1/algorithm/blob/main/AlgorithmExam.ipynb\" target=\"_parent\"><img src=\"https://colab.research.google.com/assets/colab-badge.svg\" alt=\"Open In Colab\"/></a>"
      ]
    },
    {
      "cell_type": "code",
      "execution_count": 13,
      "metadata": {
        "colab": {
          "base_uri": "https://localhost:8080/"
        },
        "id": "guQrcYPGyXMR",
        "outputId": "49ac7f8f-de78-47e1-8c9f-19da327caa61"
      },
      "outputs": [
        {
          "output_type": "stream",
          "name": "stdout",
          "text": [
            "A\n",
            "B\n"
          ]
        }
      ],
      "source": [
        "#Escribe la estructura de código necesaria para que la función listados(a) reciba una lista por parámetro,\n",
        "#recorra sus elementos utilizando un ciclo for y obtenga únicamente los dos primeros ítems de dicha lista.\n",
        "\n",
        "lista = [\"A\",\"B\",\"C\",\"D\",\"E\"]\n",
        "\n",
        "def listados(a): #Se define la funcion listados\n",
        "  for i in range(len(lista)): #Se convierte la lista en valores y un rango\n",
        "      if i < 2: #Se compara si i es menor a 2, en caso de ser menor a 2 se va a imprimir, en este caso imprimira los valores 0,1 de la lista.\n",
        "          print(lista[i])\n",
        "\n",
        "listados(lista)"
      ]
    },
    {
      "cell_type": "code",
      "source": [
        "#Escribe la estructura de código necesaria para acceder y obtener un diccionario que se encuentra en la posición 3 dentro de una lista.\n",
        "#Además, incluye un comentario en el código explicando detalladamente por qué se obtiene ese resultado y cómo funciona el acceso a dicho elemento.\n",
        "\n",
        "list1 = [{\"Nombre\":\"Jesus\", \"Apellido\":\"Suarez\", \"ciudad\":\"Medellin\", \"edad\":30, \"trabajas\":\"SI\" },\n",
        "         {\"Nombre\":\"David\", \"Apellido\":\"Agualimpia\", \"ciudad\":\"Medellin\", \"edad\":30, \"trabajas\":\"SI\"},\n",
        "         {\"Nombre\":\"Leidy\", \"Apellido\":\"Noriega\", \"ciudad\":\"Medellin\", \"edad\":24, \"trabajas\":\"SI\"},\n",
        "         {\"Nombre\":\"Gael\", \"Apellido\":\"Suarez\", \"ciudad\":\"Medellin\", \"edad\":2, \"trabajas\":\"NO\"}] #Se crean los diccionarios dentro de la lista\n",
        "\n",
        "print(list1[2]) #Se solcita que se imprima el diccionario el cual esta en la posicion 3"
      ],
      "metadata": {
        "colab": {
          "base_uri": "https://localhost:8080/"
        },
        "id": "6ftQOZZF2PwR",
        "outputId": "4dc2b6eb-5707-40c5-a298-1c8ba39d2162"
      },
      "execution_count": 22,
      "outputs": [
        {
          "output_type": "stream",
          "name": "stdout",
          "text": [
            "{'Nombre': 'Leidy', 'Apellido': 'Noriega', 'ciudad': 'Medellin', 'edad': 24, 'trabajas': 'SI'}\n"
          ]
        }
      ]
    },
    {
      "cell_type": "code",
      "source": [
        "people = [\n",
        "    {\"name\": \"Carter\", \"number\": \"+1-617-495-1000\"},\n",
        "    {\"name\": \"David\", \"number\": \"+1-617-495-1000\"},\n",
        "    {\"name\": \"John\", \"number\": \"+1-949-468-2750\"}\n",
        "] #Se define y crea la lista people y se agregan los diccionarios\n",
        "\n",
        "name = input(\"Name: \") #Se crea un input en cual va a imprimir Name: y se va a almacenar en la variable name\n",
        "\n",
        "for person in people: #Se crea un ciclo for que va a recorrer la lista people\n",
        "    if person[\"name\"] == name: #Se compara la key name con la variable name\n",
        "        number = person[\"number\"]\n",
        "        print(f\"Found {number}\") #Se imrpime contatenado la palabra found con el nomber\n",
        "        break #crea una pausa\n",
        "else:\n",
        "    print(\"Not found\") #En caso contrario de que la condicion no se cumpla se va a imprimir Nor found"
      ],
      "metadata": {
        "id": "Qa9RLgqu5vJf"
      },
      "execution_count": null,
      "outputs": []
    },
    {
      "cell_type": "code",
      "source": [
        "# escribe un ejemplo de código en Python utilizando el for, donde se evidencie\n",
        "# su funcionamiento y utilidad\n",
        "\n",
        "for i in range(5):\n",
        "    print(i)"
      ],
      "metadata": {
        "colab": {
          "base_uri": "https://localhost:8080/"
        },
        "id": "4gnjvAwR8hHa",
        "outputId": "4cb4e85b-44f0-48e0-d4df-fa4f2c1e5ad2"
      },
      "execution_count": 23,
      "outputs": [
        {
          "output_type": "stream",
          "name": "stdout",
          "text": [
            "0\n",
            "1\n",
            "2\n",
            "3\n",
            "4\n"
          ]
        }
      ]
    }
  ]
}